{
 "cells": [
  {
   "cell_type": "code",
   "execution_count": 1,
   "metadata": {},
   "outputs": [],
   "source": [
    "# Importing libraries\n",
    "import pandas as pd\n",
    "import numpy as np\n",
    "import matplotlib.pyplot as plt\n",
    "from matplotlib import dates\n",
    "import seaborn as sns\n",
    "import time\n",
    "\n",
    "from selenium import webdriver\n",
    "from selenium.webdriver.support.ui import Select"
   ]
  },
  {
   "cell_type": "code",
   "execution_count": 2,
   "metadata": {},
   "outputs": [],
   "source": [
    "# Locating chromedriver\n",
    "browser = webdriver.Chrome(executable_path='/Users/Kevin/Chromedriver/chromedriver')\n",
    "# Defining the url that we want to scrape data from\n",
    "url = 'https://stats.nba.com/teams/boxscores/'\n",
    "# Initializing browser/webdriver\n",
    "browser.get(url)\n",
    "\n",
    "time.sleep(2)\n",
    "\n",
    "# Setting season to 2018-19 season\n",
    "# First option is all season. Therefore we set it to option 3\n",
    "browser.find_element_by_xpath('/html/body/main/div[2]/div/div[2]/div/div/div[1]/div[1]/div/div/label/select/option[3]').click()\n",
    "# Setting season type to regular season\n",
    "# First option is preseason. Therefore we set it to option 2\n",
    "browser.find_element_by_xpath('/html/body/main/div[2]/div/div[2]/div/div/div[1]/div[2]/div/div/label/select/option[2]').click()\n",
    "\n",
    "# Selecting & defining dropdown list that denotes the page of the table\n",
    "select = Select(browser.find_element_by_xpath('/html/body/main/div[2]/div/div[2]/div/div/nba-stat-table/div[1]/div/div/select'))\n",
    "# Defining the options of the dropdown list\n",
    "options = select.options\n",
    "# Creating blank string variable to store data\n",
    "table = \"\"\n",
    "\n",
    "# Looping through dropdown menu to show all pages except for the first instance which is 'all'\n",
    "for index in range(1,len(options)):\n",
    "#     Selecting the page\n",
    "    select.select_by_index(index)\n",
    "#     Adding string to storage varible\n",
    "    table = table + '\\n' + browser.find_element_by_class_name('nba-stat-table__overflow').text\n",
    "    # Slowing down program to not overload servers\n",
    "    # time.sleep(1)\n",
    "\n",
    "# Closing webdriver\n",
    "browser.quit()"
   ]
  },
  {
   "cell_type": "code",
   "execution_count": 3,
   "metadata": {},
   "outputs": [],
   "source": [
    "# Separating the data with new line breaks\n",
    "data_list = table.split('\\n')\n",
    "\n",
    "# Removing blank data\n",
    "while(\"\" in data_list) : \n",
    "    data_list.remove(\"\") \n",
    ";\n",
    "\n",
    "# Removing headers\n",
    "while(\"TEAM MATCH UP GAME DATE W/L MIN PTS FGM FGA FG% 3PM 3PA 3P% FTM FTA FT% OREB DREB REB AST STL BLK TOV PF +/-\" in data_list) : \n",
    "    data_list.remove(\"TEAM MATCH UP GAME DATE W/L MIN PTS FGM FGA FG% 3PM 3PA 3P% FTM FTA FT% OREB DREB REB AST STL BLK TOV PF +/-\") "
   ]
  },
  {
   "cell_type": "code",
   "execution_count": 4,
   "metadata": {},
   "outputs": [
    {
     "data": {
      "text/plain": [
       "['MEM MEM vs. GSW 04/10/2019 W 240 132 48 98 49.0 21 46 45.7 15 18 83.3 15 34 49 25 9 0 11 18 15',\n",
       " 'GSW GSW @ MEM 04/10/2019 L 240 117 46 92 50.0 13 30 43.3 12 14 85.7 9 30 39 32 3 5 14 17 -15',\n",
       " 'ORL ORL @ CHA 04/10/2019 W 240 122 48 88 54.5 11 30 36.7 15 20 75.0 9 30 39 24 5 2 6 19 8',\n",
       " 'CHA CHA vs. ORL 04/10/2019 L 240 114 41 78 52.6 8 29 27.6 24 27 88.9 4 28 32 21 3 4 8 14 -8',\n",
       " 'MIN MIN @ DEN 04/10/2019 L 240 95 39 91 42.9 13 32 40.6 4 6 66.7 7 34 41 24 6 0 10 22 -4']"
      ]
     },
     "execution_count": 4,
     "metadata": {},
     "output_type": "execute_result"
    }
   ],
   "source": [
    "#Check\n",
    "data_list[0:5]"
   ]
  },
  {
   "cell_type": "code",
   "execution_count": 5,
   "metadata": {},
   "outputs": [],
   "source": [
    "# Create lists of columns to store values\n",
    "team = []\n",
    "match_up_1 = []\n",
    "match_up_2 = []\n",
    "match_up_3 = []\n",
    "game_date = []\n",
    "win_loss = []\n",
    "minutes = []\n",
    "pts = []\n",
    "fgm = []\n",
    "fga = []\n",
    "fg_percent = []\n",
    "three_pm = []\n",
    "three_pa = []\n",
    "three_percent = []\n",
    "ftm = []\n",
    "fta = []\n",
    "ft_percent = []\n",
    "oreb = []\n",
    "dreb = []\n",
    "reb = []\n",
    "ast = []\n",
    "stl = []\n",
    "blk = []\n",
    "tov = []\n",
    "pf = []\n",
    "plus_minus = []\n",
    "\n",
    "# Looping through data to import data into predefined lists\n",
    "for index in data_list:\n",
    "    # Separating the data within the rows\n",
    "    row = index.split()\n",
    "    # Adding data to respective list\n",
    "    team.append(row[0])\n",
    "    match_up_1.append(row[1])\n",
    "    match_up_2.append(row[2])\n",
    "    match_up_3.append(row[3])\n",
    "    game_date.append(row[4])\n",
    "    win_loss.append(row[5])\n",
    "    minutes.append(row[6])\n",
    "    pts.append(row[7])\n",
    "    fgm.append(row[8])\n",
    "    fga.append(row[9])\n",
    "    fg_percent.append(row[10]) \n",
    "    three_pm.append(row[11])\n",
    "    three_pa.append(row[12])\n",
    "    three_percent.append(row[13])\n",
    "    ftm.append(row[14])\n",
    "    fta.append(row[15])\n",
    "    ft_percent.append(row[16])\n",
    "    oreb.append(row[17])\n",
    "    dreb.append(row[18])\n",
    "    reb.append(row[19])\n",
    "    ast.append(row[20])\n",
    "    stl.append(row[21])\n",
    "    blk.append(row[22])\n",
    "    tov.append(row[23])\n",
    "    pf.append(row[24])\n",
    "    plus_minus.append(row[25])"
   ]
  },
  {
   "cell_type": "code",
   "execution_count": 6,
   "metadata": {},
   "outputs": [],
   "source": [
    "# Creating dataframe with list data\n",
    "df = pd.DataFrame(list(zip(team,\n",
    "                           match_up_1,\n",
    "                           match_up_2,\n",
    "                           match_up_3,\n",
    "                           game_date,\n",
    "                           win_loss,\n",
    "                           minutes,\n",
    "                           pts,\n",
    "                           fgm,\n",
    "                           fga,\n",
    "                           fg_percent,\n",
    "                           three_pm,\n",
    "                           three_pa,\n",
    "                           three_percent,\n",
    "                           ftm,\n",
    "                           fta,\n",
    "                           ft_percent,\n",
    "                           oreb,\n",
    "                           dreb,\n",
    "                           reb,\n",
    "                           ast,\n",
    "                           stl,\n",
    "                           blk,\n",
    "                           tov,\n",
    "                           pf,\n",
    "                           plus_minus)), \n",
    "                  columns =['TEAM',\n",
    "                           'MATCH UP 1',\n",
    "                           'MATCH UP 2',\n",
    "                           'MATCH UP 3',\n",
    "                           'GAME DATE',\n",
    "                           'W/L',\n",
    "                           'MIN',\n",
    "                           'PTS',\n",
    "                           'FGM',\n",
    "                           'FGA',\n",
    "                           'FG%',\n",
    "                           '3PM',\n",
    "                           '3PA',\n",
    "                           '3P%',\n",
    "                           'FTM',\n",
    "                           'FTA',\n",
    "                           'FT%',\n",
    "                           'OREB',\n",
    "                           'DREB',\n",
    "                           'REB',\n",
    "                           'AST',\n",
    "                           'STL',\n",
    "                           'BLK',\n",
    "                           'TOV',\n",
    "                           'PF',\n",
    "                           '+/-'])\n",
    "\n",
    "# Changing datatypes for each column to be used later\n",
    "df = df.astype({'TEAM': 'category',\n",
    "           'MATCH UP 1': 'category',\n",
    "           'MATCH UP 2': 'category',\n",
    "           'MATCH UP 3': 'category',\n",
    "           'GAME DATE': 'datetime64',\n",
    "           'W/L': 'category',\n",
    "           'MIN': 'int',\n",
    "           'PTS': 'int',\n",
    "           'FGM': 'int',\n",
    "           'FGA': 'int',\n",
    "           'FG%': 'float',\n",
    "           '3PM': 'int',\n",
    "           '3PA': 'int',\n",
    "           '3P%': 'float',\n",
    "           'FTM': 'int',\n",
    "           'FTA': 'int',\n",
    "           'FT%': 'float',\n",
    "           'OREB': 'int',\n",
    "           'DREB': 'int',\n",
    "           'REB': 'int',\n",
    "           'AST': 'int',\n",
    "           'STL': 'int',\n",
    "           'BLK': 'int',\n",
    "           'TOV': 'int',\n",
    "           'PF': 'int',\n",
    "           '+/-': 'int'\n",
    "           })"
   ]
  },
  {
   "cell_type": "code",
   "execution_count": 7,
   "metadata": {},
   "outputs": [
    {
     "name": "stdout",
     "output_type": "stream",
     "text": [
      "<class 'pandas.core.frame.DataFrame'>\n",
      "RangeIndex: 2460 entries, 0 to 2459\n",
      "Data columns (total 26 columns):\n",
      "TEAM          2460 non-null category\n",
      "MATCH UP 1    2460 non-null category\n",
      "MATCH UP 2    2460 non-null category\n",
      "MATCH UP 3    2460 non-null category\n",
      "GAME DATE     2460 non-null datetime64[ns]\n",
      "W/L           2460 non-null category\n",
      "MIN           2460 non-null int64\n",
      "PTS           2460 non-null int64\n",
      "FGM           2460 non-null int64\n",
      "FGA           2460 non-null int64\n",
      "FG%           2460 non-null float64\n",
      "3PM           2460 non-null int64\n",
      "3PA           2460 non-null int64\n",
      "3P%           2460 non-null float64\n",
      "FTM           2460 non-null int64\n",
      "FTA           2460 non-null int64\n",
      "FT%           2460 non-null float64\n",
      "OREB          2460 non-null int64\n",
      "DREB          2460 non-null int64\n",
      "REB           2460 non-null int64\n",
      "AST           2460 non-null int64\n",
      "STL           2460 non-null int64\n",
      "BLK           2460 non-null int64\n",
      "TOV           2460 non-null int64\n",
      "PF            2460 non-null int64\n",
      "+/-           2460 non-null int64\n",
      "dtypes: category(5), datetime64[ns](1), float64(3), int64(17)\n",
      "memory usage: 420.3 KB\n"
     ]
    }
   ],
   "source": [
    "# Check\n",
    "df.info()"
   ]
  },
  {
   "cell_type": "code",
   "execution_count": 8,
   "metadata": {},
   "outputs": [
    {
     "data": {
      "text/html": [
       "<div>\n",
       "<style scoped>\n",
       "    .dataframe tbody tr th:only-of-type {\n",
       "        vertical-align: middle;\n",
       "    }\n",
       "\n",
       "    .dataframe tbody tr th {\n",
       "        vertical-align: top;\n",
       "    }\n",
       "\n",
       "    .dataframe thead th {\n",
       "        text-align: right;\n",
       "    }\n",
       "</style>\n",
       "<table border=\"1\" class=\"dataframe\">\n",
       "  <thead>\n",
       "    <tr style=\"text-align: right;\">\n",
       "      <th></th>\n",
       "      <th>TEAM</th>\n",
       "      <th>MATCH UP 1</th>\n",
       "      <th>MATCH UP 2</th>\n",
       "      <th>MATCH UP 3</th>\n",
       "      <th>GAME DATE</th>\n",
       "      <th>W/L</th>\n",
       "      <th>MIN</th>\n",
       "      <th>PTS</th>\n",
       "      <th>FGM</th>\n",
       "      <th>FGA</th>\n",
       "      <th>...</th>\n",
       "      <th>FT%</th>\n",
       "      <th>OREB</th>\n",
       "      <th>DREB</th>\n",
       "      <th>REB</th>\n",
       "      <th>AST</th>\n",
       "      <th>STL</th>\n",
       "      <th>BLK</th>\n",
       "      <th>TOV</th>\n",
       "      <th>PF</th>\n",
       "      <th>+/-</th>\n",
       "    </tr>\n",
       "  </thead>\n",
       "  <tbody>\n",
       "    <tr>\n",
       "      <th>0</th>\n",
       "      <td>MEM</td>\n",
       "      <td>MEM</td>\n",
       "      <td>vs.</td>\n",
       "      <td>GSW</td>\n",
       "      <td>2019-04-10</td>\n",
       "      <td>W</td>\n",
       "      <td>240</td>\n",
       "      <td>132</td>\n",
       "      <td>48</td>\n",
       "      <td>98</td>\n",
       "      <td>...</td>\n",
       "      <td>83.3</td>\n",
       "      <td>15</td>\n",
       "      <td>34</td>\n",
       "      <td>49</td>\n",
       "      <td>25</td>\n",
       "      <td>9</td>\n",
       "      <td>0</td>\n",
       "      <td>11</td>\n",
       "      <td>18</td>\n",
       "      <td>15</td>\n",
       "    </tr>\n",
       "    <tr>\n",
       "      <th>1</th>\n",
       "      <td>GSW</td>\n",
       "      <td>GSW</td>\n",
       "      <td>@</td>\n",
       "      <td>MEM</td>\n",
       "      <td>2019-04-10</td>\n",
       "      <td>L</td>\n",
       "      <td>240</td>\n",
       "      <td>117</td>\n",
       "      <td>46</td>\n",
       "      <td>92</td>\n",
       "      <td>...</td>\n",
       "      <td>85.7</td>\n",
       "      <td>9</td>\n",
       "      <td>30</td>\n",
       "      <td>39</td>\n",
       "      <td>32</td>\n",
       "      <td>3</td>\n",
       "      <td>5</td>\n",
       "      <td>14</td>\n",
       "      <td>17</td>\n",
       "      <td>-15</td>\n",
       "    </tr>\n",
       "    <tr>\n",
       "      <th>2</th>\n",
       "      <td>ORL</td>\n",
       "      <td>ORL</td>\n",
       "      <td>@</td>\n",
       "      <td>CHA</td>\n",
       "      <td>2019-04-10</td>\n",
       "      <td>W</td>\n",
       "      <td>240</td>\n",
       "      <td>122</td>\n",
       "      <td>48</td>\n",
       "      <td>88</td>\n",
       "      <td>...</td>\n",
       "      <td>75.0</td>\n",
       "      <td>9</td>\n",
       "      <td>30</td>\n",
       "      <td>39</td>\n",
       "      <td>24</td>\n",
       "      <td>5</td>\n",
       "      <td>2</td>\n",
       "      <td>6</td>\n",
       "      <td>19</td>\n",
       "      <td>8</td>\n",
       "    </tr>\n",
       "    <tr>\n",
       "      <th>3</th>\n",
       "      <td>CHA</td>\n",
       "      <td>CHA</td>\n",
       "      <td>vs.</td>\n",
       "      <td>ORL</td>\n",
       "      <td>2019-04-10</td>\n",
       "      <td>L</td>\n",
       "      <td>240</td>\n",
       "      <td>114</td>\n",
       "      <td>41</td>\n",
       "      <td>78</td>\n",
       "      <td>...</td>\n",
       "      <td>88.9</td>\n",
       "      <td>4</td>\n",
       "      <td>28</td>\n",
       "      <td>32</td>\n",
       "      <td>21</td>\n",
       "      <td>3</td>\n",
       "      <td>4</td>\n",
       "      <td>8</td>\n",
       "      <td>14</td>\n",
       "      <td>-8</td>\n",
       "    </tr>\n",
       "    <tr>\n",
       "      <th>4</th>\n",
       "      <td>MIN</td>\n",
       "      <td>MIN</td>\n",
       "      <td>@</td>\n",
       "      <td>DEN</td>\n",
       "      <td>2019-04-10</td>\n",
       "      <td>L</td>\n",
       "      <td>240</td>\n",
       "      <td>95</td>\n",
       "      <td>39</td>\n",
       "      <td>91</td>\n",
       "      <td>...</td>\n",
       "      <td>66.7</td>\n",
       "      <td>7</td>\n",
       "      <td>34</td>\n",
       "      <td>41</td>\n",
       "      <td>24</td>\n",
       "      <td>6</td>\n",
       "      <td>0</td>\n",
       "      <td>10</td>\n",
       "      <td>22</td>\n",
       "      <td>-4</td>\n",
       "    </tr>\n",
       "  </tbody>\n",
       "</table>\n",
       "<p>5 rows × 26 columns</p>\n",
       "</div>"
      ],
      "text/plain": [
       "  TEAM MATCH UP 1 MATCH UP 2 MATCH UP 3  GAME DATE W/L  MIN  PTS  FGM  FGA  \\\n",
       "0  MEM        MEM        vs.        GSW 2019-04-10   W  240  132   48   98   \n",
       "1  GSW        GSW          @        MEM 2019-04-10   L  240  117   46   92   \n",
       "2  ORL        ORL          @        CHA 2019-04-10   W  240  122   48   88   \n",
       "3  CHA        CHA        vs.        ORL 2019-04-10   L  240  114   41   78   \n",
       "4  MIN        MIN          @        DEN 2019-04-10   L  240   95   39   91   \n",
       "\n",
       "   ...   FT%  OREB  DREB  REB  AST  STL  BLK  TOV  PF  +/-  \n",
       "0  ...  83.3    15    34   49   25    9    0   11  18   15  \n",
       "1  ...  85.7     9    30   39   32    3    5   14  17  -15  \n",
       "2  ...  75.0     9    30   39   24    5    2    6  19    8  \n",
       "3  ...  88.9     4    28   32   21    3    4    8  14   -8  \n",
       "4  ...  66.7     7    34   41   24    6    0   10  22   -4  \n",
       "\n",
       "[5 rows x 26 columns]"
      ]
     },
     "execution_count": 8,
     "metadata": {},
     "output_type": "execute_result"
    }
   ],
   "source": [
    "# Check\n",
    "df.head()"
   ]
  },
  {
   "cell_type": "markdown",
   "metadata": {},
   "source": [
    "# Data Analysis\n",
    "\n",
    "Now that we have the data prepped. We can now use the data to answer the questions that we are interested in.\n",
    "The questions that I am interested in are (Out of my own curiosity):\n",
    "1. What does the point totals for each team look like throughout the season?\n",
    "2. How many overtimes took place in the season?\n",
    "3. Which team had the most rebounds?"
   ]
  },
  {
   "cell_type": "markdown",
   "metadata": {},
   "source": [
    "# 1. What does the point totals for each team look like throughout the season?"
   ]
  },
  {
   "cell_type": "code",
   "execution_count": 9,
   "metadata": {},
   "outputs": [
    {
     "data": {
      "text/plain": [
       "Index(['MEM', 'GSW', 'ORL', 'CHA', 'MIN', 'DEN', 'ATL', 'IND', 'MIL', 'OKC',\n",
       "       'SAC', 'POR', 'LAC', 'UTA', 'BKN', 'MIA', 'NYK', 'DET', 'SAS', 'DAL',\n",
       "       'PHI', 'CHI', 'NOP', 'HOU', 'BOS', 'WAS', 'TOR', 'PHX', 'CLE', 'LAL'],\n",
       "      dtype='object')"
      ]
     },
     "execution_count": 9,
     "metadata": {},
     "output_type": "execute_result"
    }
   ],
   "source": [
    "# Finding the list of team names\n",
    "teams = df['TEAM'].unique()\n",
    "teams.categories"
   ]
  },
  {
   "cell_type": "code",
   "execution_count": 10,
   "metadata": {},
   "outputs": [],
   "source": [
    "# Creating different datasets based on the team to be graphed\n",
    "df_GSW = df.loc[df['TEAM'] == 'GSW']\n",
    "df_MEM = df.loc[df['TEAM'] == 'MEM']\n",
    "df_ORL = df.loc[df['TEAM'] == 'ORL']\n",
    "df_CHA = df.loc[df['TEAM'] == 'CHA']\n",
    "df_MIN = df.loc[df['TEAM'] == 'MIN']\n",
    "df_DEN = df.loc[df['TEAM'] == 'DEN']\n",
    "df_MIL = df.loc[df['TEAM'] == 'MIL']\n",
    "df_OKC = df.loc[df['TEAM'] == 'OKC']\n",
    "df_ATL = df.loc[df['TEAM'] == 'ATL']\n",
    "df_IND = df.loc[df['TEAM'] == 'IND']\n",
    "df_SAC = df.loc[df['TEAM'] == 'SAC']\n",
    "df_POR = df.loc[df['TEAM'] == 'POR']\n",
    "df_LAC = df.loc[df['TEAM'] == 'LAC']\n",
    "df_UTA = df.loc[df['TEAM'] == 'UTA']\n",
    "df_MIA = df.loc[df['TEAM'] == 'MIA']\n",
    "df_BKN = df.loc[df['TEAM'] == 'BKN']\n",
    "df_DET = df.loc[df['TEAM'] == 'DET']\n",
    "df_NYK = df.loc[df['TEAM'] == 'NYK']\n",
    "df_SAS = df.loc[df['TEAM'] == 'SAS']\n",
    "df_DAL = df.loc[df['TEAM'] == 'DAL']\n",
    "df_PHI = df.loc[df['TEAM'] == 'PHI']\n",
    "df_CHI = df.loc[df['TEAM'] == 'CHI']\n",
    "df_NOP = df.loc[df['TEAM'] == 'NOP']\n",
    "df_HOU = df.loc[df['TEAM'] == 'HOU']\n",
    "df_BOS = df.loc[df['TEAM'] == 'BOS']\n",
    "df_WAS = df.loc[df['TEAM'] == 'WAS']\n",
    "df_TOR = df.loc[df['TEAM'] == 'TOR']\n",
    "df_PHX = df.loc[df['TEAM'] == 'PHX']\n",
    "df_CLE = df.loc[df['TEAM'] == 'CLE']\n",
    "df_LAL = df.loc[df['TEAM'] == 'LAL']\n",
    "\n",
    "# Creating the names of the dataset to be used in plot title\n",
    "df_GSW.name = 'GSW'\n",
    "df_MEM.name = 'MEM'\n",
    "df_ORL.name = 'ORL'\n",
    "df_CHA.name = 'CHA'\n",
    "df_MIN.name = 'MIN'\n",
    "df_DEN.name = 'DEN'\n",
    "df_MIL.name = 'MIL'\n",
    "df_OKC.name = 'OKC'\n",
    "df_ATL.name = 'ATL'\n",
    "df_IND.name = 'IND'\n",
    "df_SAC.name = 'SAC'\n",
    "df_POR.name = 'POR'\n",
    "df_LAC.name = 'LAC'\n",
    "df_UTA.name = 'UTA'\n",
    "df_MIA.name = 'MIA'\n",
    "df_BKN.name = 'BKN'\n",
    "df_DET.name = 'DET'\n",
    "df_NYK.name = 'NYK'\n",
    "df_SAS.name = 'SAS'\n",
    "df_DAL.name = 'DAL'\n",
    "df_PHI.name = 'PHI'\n",
    "df_CHI.name = 'CHI'\n",
    "df_NOP.name = 'NOP'\n",
    "df_HOU.name = 'HOU'\n",
    "df_BOS.name = 'BOS'\n",
    "df_WAS.name = 'WAS'\n",
    "df_TOR.name = 'TOR'\n",
    "df_PHX.name = 'PHX'\n",
    "df_CLE.name = 'CLE'\n",
    "df_LAL.name = 'LAL'\n",
    "\n",
    "# Creating list of datasets to be looped through \n",
    "df_list = [\n",
    "    df_GSW, \n",
    "    df_MEM,\n",
    "    df_ORL, \n",
    "    df_CHA, \n",
    "    df_MIN, \n",
    "    df_DEN, \n",
    "    df_MIL, \n",
    "    df_OKC, \n",
    "    df_ATL, \n",
    "    df_IND, \n",
    "    df_SAC, \n",
    "    df_POR, \n",
    "    df_LAC, \n",
    "    df_UTA, \n",
    "    df_MIA, \n",
    "    df_BKN, \n",
    "    df_DET, \n",
    "    df_NYK, \n",
    "    df_SAS, \n",
    "    df_DAL, \n",
    "    df_PHI, \n",
    "    df_CHI, \n",
    "    df_NOP, \n",
    "    df_HOU, \n",
    "    df_BOS, \n",
    "    df_WAS, \n",
    "    df_TOR, \n",
    "    df_PHX, \n",
    "    df_CLE, \n",
    "    df_LAL\n",
    "    ]"
   ]
  },
  {
   "cell_type": "code",
   "execution_count": 11,
   "metadata": {},
   "outputs": [],
   "source": [
    "# Defining function to plot each team's dataset\n",
    "def plot_1(df):\n",
    "    \n",
    "    #creating temporary datasets to separate the wins and losses by color\n",
    "    temp_win_df = df[df['W/L'] == 'W']\n",
    "    temp_lose_df = df[df['W/L'] == 'L']\n",
    "    \n",
    "    #plotting barcharts\n",
    "    plt.figure(figsize=(20,5))\n",
    "    plt.title(df.name)\n",
    "    plt.bar(x='GAME DATE', height='PTS', data=temp_win_df, color = '#1f77b4')\n",
    "    plt.bar(x='GAME DATE', height='PTS', data=temp_lose_df, color = '#ff7f0e')"
   ]
  },
  {
   "cell_type": "code",
   "execution_count": 12,
   "metadata": {},
   "outputs": [
    {
     "name": "stderr",
     "output_type": "stream",
     "text": [
      "/Users/Kevin/anaconda3/lib/python3.7/site-packages/pandas/plotting/_converter.py:129: FutureWarning: Using an implicitly registered datetime converter for a matplotlib plotting method. The converter was registered by pandas on import. Future versions of pandas will require you to explicitly register matplotlib converters.\n",
      "\n",
      "To register the converters:\n",
      "\t>>> from pandas.plotting import register_matplotlib_converters\n",
      "\t>>> register_matplotlib_converters()\n",
      "  warnings.warn(msg, FutureWarning)\n",
      "/Users/Kevin/anaconda3/lib/python3.7/site-packages/ipykernel_launcher.py:9: RuntimeWarning: More than 20 figures have been opened. Figures created through the pyplot interface (`matplotlib.pyplot.figure`) are retained until explicitly closed and may consume too much memory. (To control this warning, see the rcParam `figure.max_open_warning`).\n",
      "  if __name__ == '__main__':\n"
     ]
    },
    {
     "data": {
      "image/png": "[encoded data removed]",
      "text/plain": [
       "<Figure size 1440x360 with 1 Axes>"
      ]
     },
     "metadata": {
      "needs_background": "light"
     },
     "output_type": "display_data"
    },
    {
     "data": {
      "image/png": "[encoded data removed]",
      "text/plain": [
       "<Figure size 1440x360 with 1 Axes>"
      ]
     },
     "metadata": {
      "needs_background": "light"
     },
     "output_type": "display_data"
    },
    {
     "data": {
      "image/png": "[encoded data removed]",
      "text/plain": [
       "<Figure size 1440x360 with 1 Axes>"
      ]
     },
     "metadata": {
      "needs_background": "light"
     },
     "output_type": "display_data"
    },
    {
     "data": {
      "image/png": "[encoded data removed]",
      "text/plain": [
       "<Figure size 1440x360 with 1 Axes>"
      ]
     },
     "metadata": {
      "needs_background": "light"
     },
     "output_type": "display_data"
    },
    {
     "data": {
      "image/png": "[encoded data removed]",
      "text/plain": [
       "<Figure size 1440x360 with 1 Axes>"
      ]
     },
     "metadata": {
      "needs_background": "light"
     },
     "output_type": "display_data"
    },
    {
     "data": {
      "image/png": "[encoded data removed]",
      "text/plain": [
       "<Figure size 1440x360 with 1 Axes>"
      ]
     },
     "metadata": {
      "needs_background": "light"
     },
     "output_type": "display_data"
    },
    {
     "data": {
      "image/png": "[encoded data removed]",
      "text/plain": [
       "<Figure size 1440x360 with 1 Axes>"
      ]
     },
     "metadata": {
      "needs_background": "light"
     },
     "output_type": "display_data"
    },
    {
     "data": {
      "image/png": "[encoded data removed]",
      "text/plain": [
       "<Figure size 1440x360 with 1 Axes>"
      ]
     },
     "metadata": {
      "needs_background": "light"
     },
     "output_type": "display_data"
    },
    {
     "data": {
      "image/png": "[encoded data removed]",
      "text/plain": [
       "<Figure size 1440x360 with 1 Axes>"
      ]
     },
     "metadata": {
      "needs_background": "light"
     },
     "output_type": "display_data"
    },
    {
     "data": {
      "image/png": "[encoded data removed]",
      "text/plain": [
       "<Figure size 1440x360 with 1 Axes>"
      ]
     },
     "metadata": {
      "needs_background": "light"
     },
     "output_type": "display_data"
    },
    {
     "data": {
      "image/png": "[encoded data removed]",
      "text/plain": [
       "<Figure size 1440x360 with 1 Axes>"
      ]
     },
     "metadata": {
      "needs_background": "light"
     },
     "output_type": "display_data"
    },
    {
     "data": {
      "image/png": "[encoded data removed]",
      "text/plain": [
       "<Figure size 1440x360 with 1 Axes>"
      ]
     },
     "metadata": {
      "needs_background": "light"
     },
     "output_type": "display_data"
    },
    {
     "data": {
      "image/png": "[encoded data removed]",
      "text/plain": [
       "<Figure size 1440x360 with 1 Axes>"
      ]
     },
     "metadata": {
      "needs_background": "light"
     },
     "output_type": "display_data"
    },
    {
     "data": {
      "image/png": "[encoded data removed]",
      "text/plain": [
       "<Figure size 1440x360 with 1 Axes>"
      ]
     },
     "metadata": {
      "needs_background": "light"
     },
     "output_type": "display_data"
    },
    {
     "data": {
      "image/png": "[encoded data removed]",
      "text/plain": [
       "<Figure size 1440x360 with 1 Axes>"
      ]
     },
     "metadata": {
      "needs_background": "light"
     },
     "output_type": "display_data"
    },
    {
     "data": {
      "image/png": "[encoded data removed]",
      "text/plain": [
       "<Figure size 1440x360 with 1 Axes>"
      ]
     },
     "metadata": {
      "needs_background": "light"
     },
     "output_type": "display_data"
    },
    {
     "data": {
      "image/png": "[encoded data removed]",
      "text/plain": [
       "<Figure size 1440x360 with 1 Axes>"
      ]
     },
     "metadata": {
      "needs_background": "light"
     },
     "output_type": "display_data"
    },
    {
     "data": {
      "image/png": "[encoded data removed]",
      "text/plain": [
       "<Figure size 1440x360 with 1 Axes>"
      ]
     },
     "metadata": {
      "needs_background": "light"
     },
     "output_type": "display_data"
    },
    {
     "data": {
      "image/png": "[encoded data removed]",
      "text/plain": [
       "<Figure size 1440x360 with 1 Axes>"
      ]
     },
     "metadata": {
      "needs_background": "light"
     },
     "output_type": "display_data"
    },
    {
     "data": {
      "image/png": "[encoded data removed]",
      "text/plain": [
       "<Figure size 1440x360 with 1 Axes>"
      ]
     },
     "metadata": {
      "needs_background": "light"
     },
     "output_type": "display_data"
    },
    {
     "data": {
      "image/png": "[encoded data removed]",
      "text/plain": [
       "<Figure size 1440x360 with 1 Axes>"
      ]
     },
     "metadata": {
      "needs_background": "light"
     },
     "output_type": "display_data"
    },
    {
     "data": {
      "image/png": "[encoded data removed]",
      "text/plain": [
       "<Figure size 1440x360 with 1 Axes>"
      ]
     },
     "metadata": {
      "needs_background": "light"
     },
     "output_type": "display_data"
    },
    {
     "data": {
      "image/png": "[encoded data removed]",
      "text/plain": [
       "<Figure size 1440x360 with 1 Axes>"
      ]
     },
     "metadata": {
      "needs_background": "light"
     },
     "output_type": "display_data"
    },
    {
     "data": {
      "image/png": "[encoded data removed]",
      "text/plain": [
       "<Figure size 1440x360 with 1 Axes>"
      ]
     },
     "metadata": {
      "needs_background": "light"
     },
     "output_type": "display_data"
    },
    {
     "data": {
      "image/png": "[encoded data removed]",
      "text/plain": [
       "<Figure size 1440x360 with 1 Axes>"
      ]
     },
     "metadata": {
      "needs_background": "light"
     },
     "output_type": "display_data"
    },
    {
     "data": {
      "image/png": "[encoded data removed]",
      "text/plain": [
       "<Figure size 1440x360 with 1 Axes>"
      ]
     },
     "metadata": {
      "needs_background": "light"
     },
     "output_type": "display_data"
    },
    {
     "data": {
      "image/png": "[encoded data removed]",
      "text/plain": [
       "<Figure size 1440x360 with 1 Axes>"
      ]
     },
     "metadata": {
      "needs_background": "light"
     },
     "output_type": "display_data"
    },
    {
     "data": {
      "image/png": "[encoded data removed]",
      "text/plain": [
       "<Figure size 1440x360 with 1 Axes>"
      ]
     },
     "metadata": {
      "needs_background": "light"
     },
     "output_type": "display_data"
    },
    {
     "data": {
      "image/png": "[encoded data removed]",
      "text/plain": [
       "<Figure size 1440x360 with 1 Axes>"
      ]
     },
     "metadata": {
      "needs_background": "light"
     },
     "output_type": "display_data"
    },
    {
     "data": {
      "image/png": "[encoded data removed]",
      "text/plain": [
       "<Figure size 1440x360 with 1 Axes>"
      ]
     },
     "metadata": {
      "needs_background": "light"
     },
     "output_type": "display_data"
    }
   ],
   "source": [
    "# Plotting every teams points throughout the season \n",
    "for x in df_list:\n",
    "    plot_1(x)"
   ]
  },
  {
   "cell_type": "markdown",
   "metadata": {},
   "source": [
    "Above is a bar chart that shows each team and their point totals for each game, and whether or not they won or lost the game. Wins are denoted by the color blue and lost games are orange. \n",
    "\n",
    "I find this to be very interesting, since you can see a teams progress throughout the season in an easily digestible format. \n",
    "\n",
    "For example we can see that the Golden State Warriors (GSW) had a very successful regular season, since majority of their games are blue, and you can also see that they had a few high scoring games close to 140 points. \n",
    "\n",
    "In contrast, looking at the Memphis Grizzlies (MEM) they had a very unsuccessful season since majority of the graph is orange, and a lot of their games end with less than 100 points. \n",
    "\n",
    "Other things I want to point out:\n",
    "- You can see when the All Star break happens and how the team  performs after the break. The break occurs during the end of February. \n",
    "- The worst team of the season is clearly the New York Knicks (NYK)\n",
    "- Chicago Bulls (CHI) had a terrible season but won one game with over 160 total points! The game was against the Atlanta Hawks and that was the game that went into quadruple overtime. https://stats.nba.com/game/0021800928/\n",
    "- The team that won the championship that year, the Toronto Raptors (TOR), appears to have a very consistent season. Where on winning games they scored close to 120 total points. \n"
   ]
  },
  {
   "cell_type": "markdown",
   "metadata": {},
   "source": [
    "# 2. How many overtimes took place in the season?"
   ]
  },
  {
   "cell_type": "code",
   "execution_count": 13,
   "metadata": {},
   "outputs": [
    {
     "data": {
      "text/plain": [
       "array([240, 265, 290, 340, 315])"
      ]
     },
     "execution_count": 13,
     "metadata": {},
     "output_type": "execute_result"
    }
   ],
   "source": [
    "# Finding total mins played\n",
    "minutes = df['MIN'].unique()\n",
    "minutes"
   ]
  },
  {
   "cell_type": "markdown",
   "metadata": {},
   "source": [
    "We need to divide the total mins by 5 since there are 5 players on the court at any given time. \n",
    "\n",
    "For example if we divide 240/5 = 48 mins, which is the length of a normal basketball game. \n",
    "\n",
    "There are 12 mins in each quarter, therefor 12 * 4 = 48.\n",
    "\n",
    "Each overtime is an additional 5 mins. "
   ]
  },
  {
   "cell_type": "code",
   "execution_count": 14,
   "metadata": {},
   "outputs": [
    {
     "name": "stdout",
     "output_type": "stream",
     "text": [
      "48.0\n",
      "53.0\n",
      "58.0\n",
      "63.0\n",
      "68.0\n"
     ]
    }
   ],
   "source": [
    "# Check \n",
    "print(240/5)\n",
    "print(265/5)\n",
    "print(290/5)\n",
    "print(315/5)\n",
    "print(340/5)"
   ]
  },
  {
   "cell_type": "markdown",
   "metadata": {},
   "source": [
    "Therefore we know that 240 total mins is regulation time.\n",
    "\n",
    "265 is the first overtime\n",
    "\n",
    "290 is double overtime\n",
    "\n",
    "315 is triple overtime\n",
    "\n",
    "340 is quadruple overtime"
   ]
  },
  {
   "cell_type": "code",
   "execution_count": 15,
   "metadata": {},
   "outputs": [
    {
     "data": {
      "text/plain": [
       "240    1163.0\n",
       "265      57.0\n",
       "290       7.0\n",
       "315       2.0\n",
       "340       1.0\n",
       "Name: MIN, dtype: float64"
      ]
     },
     "execution_count": 15,
     "metadata": {},
     "output_type": "execute_result"
    }
   ],
   "source": [
    "# Counting the values of the total minutes \n",
    "# Need to divide by 2 since the dataset contains both home and away teams for a single game\n",
    "df['MIN'].value_counts()/2"
   ]
  },
  {
   "cell_type": "markdown",
   "metadata": {},
   "source": [
    "From this we can see there are:\n",
    "- 1163 regulation time games\n",
    "- 57 single overtime games\n",
    "- 7 double overtime games\n",
    "- 2 triple overtime games\n",
    "- 1 quadruple overtime game"
   ]
  },
  {
   "cell_type": "markdown",
   "metadata": {},
   "source": [
    "As a check:\n",
    "\n",
    "There are 30 teams that play 82 games a year. 30 * 82 = 2460.\n",
    "\n",
    "Therefore we would expect a total of 2460/2 = 1230 games a year. Note that we have to divide by two since there are two teams played per game.  "
   ]
  },
  {
   "cell_type": "code",
   "execution_count": 16,
   "metadata": {},
   "outputs": [
    {
     "name": "stdout",
     "output_type": "stream",
     "text": [
      "Total games a year 1230.0\n",
      "Check counts 1230\n"
     ]
    }
   ],
   "source": [
    "print('Total games a year '+ str(30*82/2))\n",
    "print('Check counts ' + str(1163+57+7+2+1))"
   ]
  },
  {
   "cell_type": "markdown",
   "metadata": {},
   "source": [
    "# 3. Which team had the most rebounds?"
   ]
  },
  {
   "cell_type": "code",
   "execution_count": 17,
   "metadata": {},
   "outputs": [
    {
     "data": {
      "text/plain": [
       "111107"
      ]
     },
     "execution_count": 17,
     "metadata": {},
     "output_type": "execute_result"
    }
   ],
   "source": [
    "# Counting the total rebounds in the season\n",
    "df['REB'].sum()"
   ]
  },
  {
   "cell_type": "code",
   "execution_count": 18,
   "metadata": {},
   "outputs": [
    {
     "name": "stdout",
     "output_type": "stream",
     "text": [
      "TEAM\n",
      "ATL    3780\n",
      "BKN    3819\n",
      "BOS    3653\n",
      "CHA    3592\n",
      "CHI    3517\n",
      "CLE    3498\n",
      "DAL    3716\n",
      "DEN    3804\n",
      "DET    3688\n",
      "GSW    3787\n",
      "HOU    3449\n",
      "IND    3528\n",
      "LAC    3732\n",
      "LAL    3820\n",
      "MEM    3426\n",
      "MIA    3800\n",
      "MIL    4078\n",
      "MIN    3673\n",
      "NOP    3878\n",
      "NYK    3668\n",
      "OKC    3942\n",
      "ORL    3724\n",
      "PHI    3917\n",
      "PHX    3311\n",
      "POR    3935\n",
      "SAC    3725\n",
      "SAS    3667\n",
      "TOR    3706\n",
      "UTA    3801\n",
      "WAS    3473\n",
      "Name: REB, dtype: int64\n"
     ]
    }
   ],
   "source": [
    "# Counting the total rebounds split by team\n",
    "team_reb = df.groupby(['TEAM'])['REB'].sum()\n",
    "print(team_reb)"
   ]
  },
  {
   "cell_type": "code",
   "execution_count": 19,
   "metadata": {},
   "outputs": [
    {
     "name": "stdout",
     "output_type": "stream",
     "text": [
      "MIL\n",
      "4078\n"
     ]
    }
   ],
   "source": [
    "# Since we created a series we need to use '.idxmax' and '.max' to find the team with the most rebounds\n",
    "print(team_reb.idxmax(0))\n",
    "print(team_reb.max(0))"
   ]
  },
  {
   "cell_type": "code",
   "execution_count": 20,
   "metadata": {},
   "outputs": [
    {
     "data": {
      "text/html": [
       "<div>\n",
       "<style scoped>\n",
       "    .dataframe tbody tr th:only-of-type {\n",
       "        vertical-align: middle;\n",
       "    }\n",
       "\n",
       "    .dataframe tbody tr th {\n",
       "        vertical-align: top;\n",
       "    }\n",
       "\n",
       "    .dataframe thead th {\n",
       "        text-align: right;\n",
       "    }\n",
       "</style>\n",
       "<table border=\"1\" class=\"dataframe\">\n",
       "  <thead>\n",
       "    <tr style=\"text-align: right;\">\n",
       "      <th></th>\n",
       "      <th>MIN</th>\n",
       "      <th>PTS</th>\n",
       "      <th>FGM</th>\n",
       "      <th>FGA</th>\n",
       "      <th>FG%</th>\n",
       "      <th>3PM</th>\n",
       "      <th>3PA</th>\n",
       "      <th>3P%</th>\n",
       "      <th>FTM</th>\n",
       "      <th>FTA</th>\n",
       "      <th>FT%</th>\n",
       "      <th>OREB</th>\n",
       "      <th>DREB</th>\n",
       "      <th>REB</th>\n",
       "      <th>AST</th>\n",
       "      <th>STL</th>\n",
       "      <th>BLK</th>\n",
       "      <th>TOV</th>\n",
       "      <th>PF</th>\n",
       "      <th>+/-</th>\n",
       "    </tr>\n",
       "    <tr>\n",
       "      <th>TEAM</th>\n",
       "      <th></th>\n",
       "      <th></th>\n",
       "      <th></th>\n",
       "      <th></th>\n",
       "      <th></th>\n",
       "      <th></th>\n",
       "      <th></th>\n",
       "      <th></th>\n",
       "      <th></th>\n",
       "      <th></th>\n",
       "      <th></th>\n",
       "      <th></th>\n",
       "      <th></th>\n",
       "      <th></th>\n",
       "      <th></th>\n",
       "      <th></th>\n",
       "      <th></th>\n",
       "      <th></th>\n",
       "      <th></th>\n",
       "      <th></th>\n",
       "    </tr>\n",
       "  </thead>\n",
       "  <tbody>\n",
       "    <tr>\n",
       "      <th>ATL</th>\n",
       "      <td>19855</td>\n",
       "      <td>9294</td>\n",
       "      <td>3392</td>\n",
       "      <td>7524</td>\n",
       "      <td>3704.6</td>\n",
       "      <td>1067</td>\n",
       "      <td>3034</td>\n",
       "      <td>2878.0</td>\n",
       "      <td>1443</td>\n",
       "      <td>1918</td>\n",
       "      <td>6164.9</td>\n",
       "      <td>955</td>\n",
       "      <td>2825</td>\n",
       "      <td>3780</td>\n",
       "      <td>2118</td>\n",
       "      <td>675</td>\n",
       "      <td>419</td>\n",
       "      <td>1397</td>\n",
       "      <td>1932</td>\n",
       "      <td>-494</td>\n",
       "    </tr>\n",
       "    <tr>\n",
       "      <th>BKN</th>\n",
       "      <td>19980</td>\n",
       "      <td>9204</td>\n",
       "      <td>3301</td>\n",
       "      <td>7358</td>\n",
       "      <td>3686.9</td>\n",
       "      <td>1047</td>\n",
       "      <td>2965</td>\n",
       "      <td>2892.8</td>\n",
       "      <td>1555</td>\n",
       "      <td>2088</td>\n",
       "      <td>6123.1</td>\n",
       "      <td>900</td>\n",
       "      <td>2919</td>\n",
       "      <td>3819</td>\n",
       "      <td>1954</td>\n",
       "      <td>539</td>\n",
       "      <td>339</td>\n",
       "      <td>1236</td>\n",
       "      <td>1763</td>\n",
       "      <td>-6</td>\n",
       "    </tr>\n",
       "    <tr>\n",
       "      <th>BOS</th>\n",
       "      <td>19780</td>\n",
       "      <td>9216</td>\n",
       "      <td>3451</td>\n",
       "      <td>7423</td>\n",
       "      <td>3819.8</td>\n",
       "      <td>1032</td>\n",
       "      <td>2829</td>\n",
       "      <td>2976.7</td>\n",
       "      <td>1282</td>\n",
       "      <td>1598</td>\n",
       "      <td>6612.3</td>\n",
       "      <td>804</td>\n",
       "      <td>2849</td>\n",
       "      <td>3653</td>\n",
       "      <td>2155</td>\n",
       "      <td>706</td>\n",
       "      <td>435</td>\n",
       "      <td>1052</td>\n",
       "      <td>1670</td>\n",
       "      <td>364</td>\n",
       "    </tr>\n",
       "    <tr>\n",
       "      <th>CHA</th>\n",
       "      <td>19830</td>\n",
       "      <td>9081</td>\n",
       "      <td>3297</td>\n",
       "      <td>7362</td>\n",
       "      <td>3679.3</td>\n",
       "      <td>977</td>\n",
       "      <td>2783</td>\n",
       "      <td>2879.9</td>\n",
       "      <td>1510</td>\n",
       "      <td>1895</td>\n",
       "      <td>6498.4</td>\n",
       "      <td>814</td>\n",
       "      <td>2778</td>\n",
       "      <td>3592</td>\n",
       "      <td>1905</td>\n",
       "      <td>591</td>\n",
       "      <td>405</td>\n",
       "      <td>1001</td>\n",
       "      <td>1550</td>\n",
       "      <td>-90</td>\n",
       "    </tr>\n",
       "    <tr>\n",
       "      <th>CHI</th>\n",
       "      <td>19905</td>\n",
       "      <td>8605</td>\n",
       "      <td>3266</td>\n",
       "      <td>7205</td>\n",
       "      <td>3724.3</td>\n",
       "      <td>745</td>\n",
       "      <td>2123</td>\n",
       "      <td>2863.3</td>\n",
       "      <td>1328</td>\n",
       "      <td>1695</td>\n",
       "      <td>6464.0</td>\n",
       "      <td>718</td>\n",
       "      <td>2799</td>\n",
       "      <td>3517</td>\n",
       "      <td>1796</td>\n",
       "      <td>603</td>\n",
       "      <td>351</td>\n",
       "      <td>1159</td>\n",
       "      <td>1663</td>\n",
       "      <td>-690</td>\n",
       "    </tr>\n",
       "    <tr>\n",
       "      <th>CLE</th>\n",
       "      <td>19755</td>\n",
       "      <td>8567</td>\n",
       "      <td>3189</td>\n",
       "      <td>7184</td>\n",
       "      <td>3647.0</td>\n",
       "      <td>847</td>\n",
       "      <td>2388</td>\n",
       "      <td>2886.6</td>\n",
       "      <td>1342</td>\n",
       "      <td>1694</td>\n",
       "      <td>6446.8</td>\n",
       "      <td>879</td>\n",
       "      <td>2619</td>\n",
       "      <td>3498</td>\n",
       "      <td>1698</td>\n",
       "      <td>534</td>\n",
       "      <td>195</td>\n",
       "      <td>1106</td>\n",
       "      <td>1642</td>\n",
       "      <td>-788</td>\n",
       "    </tr>\n",
       "    <tr>\n",
       "      <th>DAL</th>\n",
       "      <td>19780</td>\n",
       "      <td>8927</td>\n",
       "      <td>3182</td>\n",
       "      <td>7122</td>\n",
       "      <td>3670.8</td>\n",
       "      <td>1022</td>\n",
       "      <td>3002</td>\n",
       "      <td>2799.9</td>\n",
       "      <td>1541</td>\n",
       "      <td>2076</td>\n",
       "      <td>6080.5</td>\n",
       "      <td>832</td>\n",
       "      <td>2884</td>\n",
       "      <td>3716</td>\n",
       "      <td>1918</td>\n",
       "      <td>533</td>\n",
       "      <td>351</td>\n",
       "      <td>1167</td>\n",
       "      <td>1650</td>\n",
       "      <td>-105</td>\n",
       "    </tr>\n",
       "    <tr>\n",
       "      <th>DEN</th>\n",
       "      <td>19730</td>\n",
       "      <td>9075</td>\n",
       "      <td>3439</td>\n",
       "      <td>7384</td>\n",
       "      <td>3829.0</td>\n",
       "      <td>903</td>\n",
       "      <td>2571</td>\n",
       "      <td>2867.6</td>\n",
       "      <td>1294</td>\n",
       "      <td>1714</td>\n",
       "      <td>6263.0</td>\n",
       "      <td>972</td>\n",
       "      <td>2832</td>\n",
       "      <td>3804</td>\n",
       "      <td>2245</td>\n",
       "      <td>634</td>\n",
       "      <td>363</td>\n",
       "      <td>1102</td>\n",
       "      <td>1644</td>\n",
       "      <td>324</td>\n",
       "    </tr>\n",
       "    <tr>\n",
       "      <th>DET</th>\n",
       "      <td>19855</td>\n",
       "      <td>8778</td>\n",
       "      <td>3185</td>\n",
       "      <td>7238</td>\n",
       "      <td>3617.0</td>\n",
       "      <td>993</td>\n",
       "      <td>2854</td>\n",
       "      <td>2835.4</td>\n",
       "      <td>1415</td>\n",
       "      <td>1893</td>\n",
       "      <td>6171.9</td>\n",
       "      <td>936</td>\n",
       "      <td>2752</td>\n",
       "      <td>3688</td>\n",
       "      <td>1845</td>\n",
       "      <td>569</td>\n",
       "      <td>331</td>\n",
       "      <td>1135</td>\n",
       "      <td>1811</td>\n",
       "      <td>-20</td>\n",
       "    </tr>\n",
       "    <tr>\n",
       "      <th>GSW</th>\n",
       "      <td>19805</td>\n",
       "      <td>9650</td>\n",
       "      <td>3612</td>\n",
       "      <td>7361</td>\n",
       "      <td>4029.5</td>\n",
       "      <td>1087</td>\n",
       "      <td>2824</td>\n",
       "      <td>3152.9</td>\n",
       "      <td>1339</td>\n",
       "      <td>1672</td>\n",
       "      <td>6589.4</td>\n",
       "      <td>797</td>\n",
       "      <td>2990</td>\n",
       "      <td>3787</td>\n",
       "      <td>2413</td>\n",
       "      <td>625</td>\n",
       "      <td>525</td>\n",
       "      <td>1169</td>\n",
       "      <td>1757</td>\n",
       "      <td>530</td>\n",
       "    </tr>\n",
       "    <tr>\n",
       "      <th>HOU</th>\n",
       "      <td>19830</td>\n",
       "      <td>9341</td>\n",
       "      <td>3218</td>\n",
       "      <td>7163</td>\n",
       "      <td>3696.5</td>\n",
       "      <td>1323</td>\n",
       "      <td>3721</td>\n",
       "      <td>2899.8</td>\n",
       "      <td>1582</td>\n",
       "      <td>2001</td>\n",
       "      <td>6495.6</td>\n",
       "      <td>836</td>\n",
       "      <td>2613</td>\n",
       "      <td>3449</td>\n",
       "      <td>1741</td>\n",
       "      <td>700</td>\n",
       "      <td>405</td>\n",
       "      <td>1094</td>\n",
       "      <td>1803</td>\n",
       "      <td>391</td>\n",
       "    </tr>\n",
       "    <tr>\n",
       "      <th>IND</th>\n",
       "      <td>19705</td>\n",
       "      <td>8857</td>\n",
       "      <td>3390</td>\n",
       "      <td>7135</td>\n",
       "      <td>3904.8</td>\n",
       "      <td>779</td>\n",
       "      <td>2081</td>\n",
       "      <td>3053.4</td>\n",
       "      <td>1298</td>\n",
       "      <td>1727</td>\n",
       "      <td>6163.2</td>\n",
       "      <td>762</td>\n",
       "      <td>2766</td>\n",
       "      <td>3528</td>\n",
       "      <td>2128</td>\n",
       "      <td>713</td>\n",
       "      <td>404</td>\n",
       "      <td>1122</td>\n",
       "      <td>1594</td>\n",
       "      <td>273</td>\n",
       "    </tr>\n",
       "    <tr>\n",
       "      <th>LAC</th>\n",
       "      <td>19830</td>\n",
       "      <td>9442</td>\n",
       "      <td>3384</td>\n",
       "      <td>7178</td>\n",
       "      <td>3870.4</td>\n",
       "      <td>821</td>\n",
       "      <td>2118</td>\n",
       "      <td>3177.8</td>\n",
       "      <td>1853</td>\n",
       "      <td>2340</td>\n",
       "      <td>6473.5</td>\n",
       "      <td>796</td>\n",
       "      <td>2936</td>\n",
       "      <td>3732</td>\n",
       "      <td>1970</td>\n",
       "      <td>561</td>\n",
       "      <td>385</td>\n",
       "      <td>1193</td>\n",
       "      <td>1913</td>\n",
       "      <td>70</td>\n",
       "    </tr>\n",
       "    <tr>\n",
       "      <th>LAL</th>\n",
       "      <td>19780</td>\n",
       "      <td>9165</td>\n",
       "      <td>3491</td>\n",
       "      <td>7425</td>\n",
       "      <td>3862.4</td>\n",
       "      <td>847</td>\n",
       "      <td>2541</td>\n",
       "      <td>2715.6</td>\n",
       "      <td>1336</td>\n",
       "      <td>1910</td>\n",
       "      <td>5721.0</td>\n",
       "      <td>835</td>\n",
       "      <td>2985</td>\n",
       "      <td>3820</td>\n",
       "      <td>2096</td>\n",
       "      <td>618</td>\n",
       "      <td>440</td>\n",
       "      <td>1284</td>\n",
       "      <td>1701</td>\n",
       "      <td>-141</td>\n",
       "    </tr>\n",
       "    <tr>\n",
       "      <th>MEM</th>\n",
       "      <td>19880</td>\n",
       "      <td>8490</td>\n",
       "      <td>3113</td>\n",
       "      <td>6924</td>\n",
       "      <td>3695.7</td>\n",
       "      <td>811</td>\n",
       "      <td>2368</td>\n",
       "      <td>2786.6</td>\n",
       "      <td>1453</td>\n",
       "      <td>1882</td>\n",
       "      <td>6355.3</td>\n",
       "      <td>723</td>\n",
       "      <td>2703</td>\n",
       "      <td>3426</td>\n",
       "      <td>1963</td>\n",
       "      <td>684</td>\n",
       "      <td>448</td>\n",
       "      <td>1147</td>\n",
       "      <td>1801</td>\n",
       "      <td>-213</td>\n",
       "    </tr>\n",
       "    <tr>\n",
       "      <th>MIA</th>\n",
       "      <td>19730</td>\n",
       "      <td>8668</td>\n",
       "      <td>3251</td>\n",
       "      <td>7218</td>\n",
       "      <td>3705.2</td>\n",
       "      <td>928</td>\n",
       "      <td>2658</td>\n",
       "      <td>2874.7</td>\n",
       "      <td>1238</td>\n",
       "      <td>1782</td>\n",
       "      <td>5651.4</td>\n",
       "      <td>921</td>\n",
       "      <td>2879</td>\n",
       "      <td>3800</td>\n",
       "      <td>1991</td>\n",
       "      <td>627</td>\n",
       "      <td>448</td>\n",
       "      <td>1208</td>\n",
       "      <td>1712</td>\n",
       "      <td>-19</td>\n",
       "    </tr>\n",
       "    <tr>\n",
       "      <th>MIL</th>\n",
       "      <td>19780</td>\n",
       "      <td>9686</td>\n",
       "      <td>3555</td>\n",
       "      <td>7471</td>\n",
       "      <td>3909.8</td>\n",
       "      <td>1105</td>\n",
       "      <td>3134</td>\n",
       "      <td>2896.6</td>\n",
       "      <td>1471</td>\n",
       "      <td>1904</td>\n",
       "      <td>6329.1</td>\n",
       "      <td>762</td>\n",
       "      <td>3316</td>\n",
       "      <td>4078</td>\n",
       "      <td>2136</td>\n",
       "      <td>615</td>\n",
       "      <td>486</td>\n",
       "      <td>1137</td>\n",
       "      <td>1608</td>\n",
       "      <td>727</td>\n",
       "    </tr>\n",
       "    <tr>\n",
       "      <th>MIN</th>\n",
       "      <td>19830</td>\n",
       "      <td>9223</td>\n",
       "      <td>3413</td>\n",
       "      <td>7483</td>\n",
       "      <td>3749.1</td>\n",
       "      <td>827</td>\n",
       "      <td>2357</td>\n",
       "      <td>2913.7</td>\n",
       "      <td>1570</td>\n",
       "      <td>1995</td>\n",
       "      <td>6450.3</td>\n",
       "      <td>923</td>\n",
       "      <td>2750</td>\n",
       "      <td>3673</td>\n",
       "      <td>2018</td>\n",
       "      <td>683</td>\n",
       "      <td>411</td>\n",
       "      <td>1074</td>\n",
       "      <td>1664</td>\n",
       "      <td>-123</td>\n",
       "    </tr>\n",
       "    <tr>\n",
       "      <th>NOP</th>\n",
       "      <td>19755</td>\n",
       "      <td>9466</td>\n",
       "      <td>3581</td>\n",
       "      <td>7563</td>\n",
       "      <td>3891.4</td>\n",
       "      <td>842</td>\n",
       "      <td>2449</td>\n",
       "      <td>2821.4</td>\n",
       "      <td>1462</td>\n",
       "      <td>1921</td>\n",
       "      <td>6211.2</td>\n",
       "      <td>909</td>\n",
       "      <td>2969</td>\n",
       "      <td>3878</td>\n",
       "      <td>2216</td>\n",
       "      <td>610</td>\n",
       "      <td>441</td>\n",
       "      <td>1215</td>\n",
       "      <td>1732</td>\n",
       "      <td>-109</td>\n",
       "    </tr>\n",
       "    <tr>\n",
       "      <th>NYK</th>\n",
       "      <td>19780</td>\n",
       "      <td>8575</td>\n",
       "      <td>3134</td>\n",
       "      <td>7241</td>\n",
       "      <td>3554.6</td>\n",
       "      <td>823</td>\n",
       "      <td>2421</td>\n",
       "      <td>2781.0</td>\n",
       "      <td>1484</td>\n",
       "      <td>1956</td>\n",
       "      <td>6232.1</td>\n",
       "      <td>857</td>\n",
       "      <td>2811</td>\n",
       "      <td>3668</td>\n",
       "      <td>1646</td>\n",
       "      <td>557</td>\n",
       "      <td>422</td>\n",
       "      <td>1151</td>\n",
       "      <td>1713</td>\n",
       "      <td>-755</td>\n",
       "    </tr>\n",
       "    <tr>\n",
       "      <th>OKC</th>\n",
       "      <td>19855</td>\n",
       "      <td>9387</td>\n",
       "      <td>3497</td>\n",
       "      <td>7706</td>\n",
       "      <td>3729.8</td>\n",
       "      <td>932</td>\n",
       "      <td>2677</td>\n",
       "      <td>2880.9</td>\n",
       "      <td>1461</td>\n",
       "      <td>2049</td>\n",
       "      <td>5854.6</td>\n",
       "      <td>1031</td>\n",
       "      <td>2911</td>\n",
       "      <td>3942</td>\n",
       "      <td>1917</td>\n",
       "      <td>766</td>\n",
       "      <td>425</td>\n",
       "      <td>1145</td>\n",
       "      <td>1839</td>\n",
       "      <td>279</td>\n",
       "    </tr>\n",
       "    <tr>\n",
       "      <th>ORL</th>\n",
       "      <td>19780</td>\n",
       "      <td>8800</td>\n",
       "      <td>3316</td>\n",
       "      <td>7307</td>\n",
       "      <td>3725.2</td>\n",
       "      <td>937</td>\n",
       "      <td>2633</td>\n",
       "      <td>2926.7</td>\n",
       "      <td>1231</td>\n",
       "      <td>1575</td>\n",
       "      <td>6412.6</td>\n",
       "      <td>822</td>\n",
       "      <td>2902</td>\n",
       "      <td>3724</td>\n",
       "      <td>2095</td>\n",
       "      <td>543</td>\n",
       "      <td>445</td>\n",
       "      <td>1082</td>\n",
       "      <td>1526</td>\n",
       "      <td>58</td>\n",
       "    </tr>\n",
       "    <tr>\n",
       "      <th>PHI</th>\n",
       "      <td>19805</td>\n",
       "      <td>9445</td>\n",
       "      <td>3407</td>\n",
       "      <td>7233</td>\n",
       "      <td>3869.6</td>\n",
       "      <td>889</td>\n",
       "      <td>2474</td>\n",
       "      <td>2943.3</td>\n",
       "      <td>1742</td>\n",
       "      <td>2258</td>\n",
       "      <td>6323.1</td>\n",
       "      <td>892</td>\n",
       "      <td>3025</td>\n",
       "      <td>3917</td>\n",
       "      <td>2207</td>\n",
       "      <td>606</td>\n",
       "      <td>432</td>\n",
       "      <td>1223</td>\n",
       "      <td>1745</td>\n",
       "      <td>221</td>\n",
       "    </tr>\n",
       "    <tr>\n",
       "      <th>PHX</th>\n",
       "      <td>19880</td>\n",
       "      <td>8815</td>\n",
       "      <td>3289</td>\n",
       "      <td>7164</td>\n",
       "      <td>3769.6</td>\n",
       "      <td>790</td>\n",
       "      <td>2400</td>\n",
       "      <td>2686.0</td>\n",
       "      <td>1447</td>\n",
       "      <td>1858</td>\n",
       "      <td>6384.7</td>\n",
       "      <td>748</td>\n",
       "      <td>2563</td>\n",
       "      <td>3311</td>\n",
       "      <td>1957</td>\n",
       "      <td>735</td>\n",
       "      <td>418</td>\n",
       "      <td>1279</td>\n",
       "      <td>1932</td>\n",
       "      <td>-766</td>\n",
       "    </tr>\n",
       "    <tr>\n",
       "      <th>POR</th>\n",
       "      <td>19855</td>\n",
       "      <td>9402</td>\n",
       "      <td>3470</td>\n",
       "      <td>7427</td>\n",
       "      <td>3846.0</td>\n",
       "      <td>904</td>\n",
       "      <td>2520</td>\n",
       "      <td>2969.3</td>\n",
       "      <td>1558</td>\n",
       "      <td>1914</td>\n",
       "      <td>6660.3</td>\n",
       "      <td>967</td>\n",
       "      <td>2968</td>\n",
       "      <td>3935</td>\n",
       "      <td>1887</td>\n",
       "      <td>546</td>\n",
       "      <td>413</td>\n",
       "      <td>1135</td>\n",
       "      <td>1669</td>\n",
       "      <td>344</td>\n",
       "    </tr>\n",
       "    <tr>\n",
       "      <th>SAC</th>\n",
       "      <td>19730</td>\n",
       "      <td>9363</td>\n",
       "      <td>3541</td>\n",
       "      <td>7637</td>\n",
       "      <td>3807.3</td>\n",
       "      <td>927</td>\n",
       "      <td>2455</td>\n",
       "      <td>3089.6</td>\n",
       "      <td>1354</td>\n",
       "      <td>1865</td>\n",
       "      <td>5899.1</td>\n",
       "      <td>906</td>\n",
       "      <td>2819</td>\n",
       "      <td>3725</td>\n",
       "      <td>2083</td>\n",
       "      <td>679</td>\n",
       "      <td>363</td>\n",
       "      <td>1095</td>\n",
       "      <td>1751</td>\n",
       "      <td>-92</td>\n",
       "    </tr>\n",
       "    <tr>\n",
       "      <th>SAS</th>\n",
       "      <td>19805</td>\n",
       "      <td>9156</td>\n",
       "      <td>3468</td>\n",
       "      <td>7248</td>\n",
       "      <td>3932.7</td>\n",
       "      <td>812</td>\n",
       "      <td>2071</td>\n",
       "      <td>3252.7</td>\n",
       "      <td>1408</td>\n",
       "      <td>1720</td>\n",
       "      <td>6720.9</td>\n",
       "      <td>757</td>\n",
       "      <td>2910</td>\n",
       "      <td>3667</td>\n",
       "      <td>2013</td>\n",
       "      <td>501</td>\n",
       "      <td>386</td>\n",
       "      <td>992</td>\n",
       "      <td>1487</td>\n",
       "      <td>138</td>\n",
       "    </tr>\n",
       "    <tr>\n",
       "      <th>TOR</th>\n",
       "      <td>19880</td>\n",
       "      <td>9384</td>\n",
       "      <td>3460</td>\n",
       "      <td>7305</td>\n",
       "      <td>3902.2</td>\n",
       "      <td>1015</td>\n",
       "      <td>2771</td>\n",
       "      <td>2994.5</td>\n",
       "      <td>1449</td>\n",
       "      <td>1803</td>\n",
       "      <td>6629.1</td>\n",
       "      <td>786</td>\n",
       "      <td>2920</td>\n",
       "      <td>3706</td>\n",
       "      <td>2085</td>\n",
       "      <td>680</td>\n",
       "      <td>437</td>\n",
       "      <td>1150</td>\n",
       "      <td>1724</td>\n",
       "      <td>499</td>\n",
       "    </tr>\n",
       "    <tr>\n",
       "      <th>UTA</th>\n",
       "      <td>19755</td>\n",
       "      <td>9161</td>\n",
       "      <td>3314</td>\n",
       "      <td>7082</td>\n",
       "      <td>3841.7</td>\n",
       "      <td>993</td>\n",
       "      <td>2789</td>\n",
       "      <td>2906.9</td>\n",
       "      <td>1540</td>\n",
       "      <td>2092</td>\n",
       "      <td>6054.1</td>\n",
       "      <td>820</td>\n",
       "      <td>2981</td>\n",
       "      <td>3801</td>\n",
       "      <td>2133</td>\n",
       "      <td>663</td>\n",
       "      <td>483</td>\n",
       "      <td>1240</td>\n",
       "      <td>1728</td>\n",
       "      <td>431</td>\n",
       "    </tr>\n",
       "    <tr>\n",
       "      <th>WAS</th>\n",
       "      <td>19930</td>\n",
       "      <td>9350</td>\n",
       "      <td>3456</td>\n",
       "      <td>7387</td>\n",
       "      <td>3839.4</td>\n",
       "      <td>930</td>\n",
       "      <td>2731</td>\n",
       "      <td>2781.4</td>\n",
       "      <td>1508</td>\n",
       "      <td>1963</td>\n",
       "      <td>6274.8</td>\n",
       "      <td>794</td>\n",
       "      <td>2679</td>\n",
       "      <td>3473</td>\n",
       "      <td>2154</td>\n",
       "      <td>683</td>\n",
       "      <td>379</td>\n",
       "      <td>1154</td>\n",
       "      <td>1701</td>\n",
       "      <td>-238</td>\n",
       "    </tr>\n",
       "  </tbody>\n",
       "</table>\n",
       "</div>"
      ],
      "text/plain": [
       "        MIN   PTS   FGM   FGA     FG%   3PM   3PA     3P%   FTM   FTA     FT%  \\\n",
       "TEAM                                                                            \n",
       "ATL   19855  9294  3392  7524  3704.6  1067  3034  2878.0  1443  1918  6164.9   \n",
       "BKN   19980  9204  3301  7358  3686.9  1047  2965  2892.8  1555  2088  6123.1   \n",
       "BOS   19780  9216  3451  7423  3819.8  1032  2829  2976.7  1282  1598  6612.3   \n",
       "CHA   19830  9081  3297  7362  3679.3   977  2783  2879.9  1510  1895  6498.4   \n",
       "CHI   19905  8605  3266  7205  3724.3   745  2123  2863.3  1328  1695  6464.0   \n",
       "CLE   19755  8567  3189  7184  3647.0   847  2388  2886.6  1342  1694  6446.8   \n",
       "DAL   19780  8927  3182  7122  3670.8  1022  3002  2799.9  1541  2076  6080.5   \n",
       "DEN   19730  9075  3439  7384  3829.0   903  2571  2867.6  1294  1714  6263.0   \n",
       "DET   19855  8778  3185  7238  3617.0   993  2854  2835.4  1415  1893  6171.9   \n",
       "GSW   19805  9650  3612  7361  4029.5  1087  2824  3152.9  1339  1672  6589.4   \n",
       "HOU   19830  9341  3218  7163  3696.5  1323  3721  2899.8  1582  2001  6495.6   \n",
       "IND   19705  8857  3390  7135  3904.8   779  2081  3053.4  1298  1727  6163.2   \n",
       "LAC   19830  9442  3384  7178  3870.4   821  2118  3177.8  1853  2340  6473.5   \n",
       "LAL   19780  9165  3491  7425  3862.4   847  2541  2715.6  1336  1910  5721.0   \n",
       "MEM   19880  8490  3113  6924  3695.7   811  2368  2786.6  1453  1882  6355.3   \n",
       "MIA   19730  8668  3251  7218  3705.2   928  2658  2874.7  1238  1782  5651.4   \n",
       "MIL   19780  9686  3555  7471  3909.8  1105  3134  2896.6  1471  1904  6329.1   \n",
       "MIN   19830  9223  3413  7483  3749.1   827  2357  2913.7  1570  1995  6450.3   \n",
       "NOP   19755  9466  3581  7563  3891.4   842  2449  2821.4  1462  1921  6211.2   \n",
       "NYK   19780  8575  3134  7241  3554.6   823  2421  2781.0  1484  1956  6232.1   \n",
       "OKC   19855  9387  3497  7706  3729.8   932  2677  2880.9  1461  2049  5854.6   \n",
       "ORL   19780  8800  3316  7307  3725.2   937  2633  2926.7  1231  1575  6412.6   \n",
       "PHI   19805  9445  3407  7233  3869.6   889  2474  2943.3  1742  2258  6323.1   \n",
       "PHX   19880  8815  3289  7164  3769.6   790  2400  2686.0  1447  1858  6384.7   \n",
       "POR   19855  9402  3470  7427  3846.0   904  2520  2969.3  1558  1914  6660.3   \n",
       "SAC   19730  9363  3541  7637  3807.3   927  2455  3089.6  1354  1865  5899.1   \n",
       "SAS   19805  9156  3468  7248  3932.7   812  2071  3252.7  1408  1720  6720.9   \n",
       "TOR   19880  9384  3460  7305  3902.2  1015  2771  2994.5  1449  1803  6629.1   \n",
       "UTA   19755  9161  3314  7082  3841.7   993  2789  2906.9  1540  2092  6054.1   \n",
       "WAS   19930  9350  3456  7387  3839.4   930  2731  2781.4  1508  1963  6274.8   \n",
       "\n",
       "      OREB  DREB   REB   AST  STL  BLK   TOV    PF  +/-  \n",
       "TEAM                                                     \n",
       "ATL    955  2825  3780  2118  675  419  1397  1932 -494  \n",
       "BKN    900  2919  3819  1954  539  339  1236  1763   -6  \n",
       "BOS    804  2849  3653  2155  706  435  1052  1670  364  \n",
       "CHA    814  2778  3592  1905  591  405  1001  1550  -90  \n",
       "CHI    718  2799  3517  1796  603  351  1159  1663 -690  \n",
       "CLE    879  2619  3498  1698  534  195  1106  1642 -788  \n",
       "DAL    832  2884  3716  1918  533  351  1167  1650 -105  \n",
       "DEN    972  2832  3804  2245  634  363  1102  1644  324  \n",
       "DET    936  2752  3688  1845  569  331  1135  1811  -20  \n",
       "GSW    797  2990  3787  2413  625  525  1169  1757  530  \n",
       "HOU    836  2613  3449  1741  700  405  1094  1803  391  \n",
       "IND    762  2766  3528  2128  713  404  1122  1594  273  \n",
       "LAC    796  2936  3732  1970  561  385  1193  1913   70  \n",
       "LAL    835  2985  3820  2096  618  440  1284  1701 -141  \n",
       "MEM    723  2703  3426  1963  684  448  1147  1801 -213  \n",
       "MIA    921  2879  3800  1991  627  448  1208  1712  -19  \n",
       "MIL    762  3316  4078  2136  615  486  1137  1608  727  \n",
       "MIN    923  2750  3673  2018  683  411  1074  1664 -123  \n",
       "NOP    909  2969  3878  2216  610  441  1215  1732 -109  \n",
       "NYK    857  2811  3668  1646  557  422  1151  1713 -755  \n",
       "OKC   1031  2911  3942  1917  766  425  1145  1839  279  \n",
       "ORL    822  2902  3724  2095  543  445  1082  1526   58  \n",
       "PHI    892  3025  3917  2207  606  432  1223  1745  221  \n",
       "PHX    748  2563  3311  1957  735  418  1279  1932 -766  \n",
       "POR    967  2968  3935  1887  546  413  1135  1669  344  \n",
       "SAC    906  2819  3725  2083  679  363  1095  1751  -92  \n",
       "SAS    757  2910  3667  2013  501  386   992  1487  138  \n",
       "TOR    786  2920  3706  2085  680  437  1150  1724  499  \n",
       "UTA    820  2981  3801  2133  663  483  1240  1728  431  \n",
       "WAS    794  2679  3473  2154  683  379  1154  1701 -238  "
      ]
     },
     "execution_count": 20,
     "metadata": {},
     "output_type": "execute_result"
    }
   ],
   "source": [
    "# Produing the aggregate table of all columns out of curiousity. Some columns do not make sense in this scenario.\n",
    "df.groupby(['TEAM']).sum()"
   ]
  },
  {
   "cell_type": "code",
   "execution_count": null,
   "metadata": {},
   "outputs": [],
   "source": []
  }
 ],
 "metadata": {
  "kernelspec": {
   "display_name": "Python 3",
   "language": "python",
   "name": "python3"
  },
  "language_info": {
   "codemirror_mode": {
    "name": "ipython",
    "version": 3
   },
   "file_extension": ".py",
   "mimetype": "text/x-python",
   "name": "python",
   "nbconvert_exporter": "python",
   "pygments_lexer": "ipython3",
   "version": "3.7.3"
  }
 },
 "nbformat": 4,
 "nbformat_minor": 2
}
